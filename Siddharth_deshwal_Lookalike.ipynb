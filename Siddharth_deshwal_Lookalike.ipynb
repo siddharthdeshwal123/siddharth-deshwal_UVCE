{
 "cells": [
  {
   "cell_type": "code",
   "execution_count": 6,
   "metadata": {},
   "outputs": [],
   "source": [
    "from sklearn.preprocessing import StandardScaler\n",
    "from sklearn.metrics.pairwise import cosine_similarity"
   ]
  },
  {
   "cell_type": "code",
   "execution_count": 8,
   "metadata": {},
   "outputs": [],
   "source": [
    "import pandas as pd\n",
    "\n",
    "# Load the dataframes\n",
    "transactions_df = pd.read_csv(r'C:\\Users\\siddh\\OneDrive\\Desktop\\internship\\zeotap\\Transactions.csv')\n",
    "customers_df = pd.read_csv(r'C:\\Users\\siddh\\OneDrive\\Desktop\\internship\\zeotap\\Customers.csv')\n",
    "products_df = pd.read_csv(r'C:\\Users\\siddh\\OneDrive\\Desktop\\internship\\zeotap\\Products.csv')\n",
    "\n",
    "# Merge the dataframes\n",
    "merged_df = transactions_df.merge(customers_df, on='CustomerID').merge(products_df, on='ProductID')\n"
   ]
  },
  {
   "cell_type": "code",
   "execution_count": 9,
   "metadata": {},
   "outputs": [],
   "source": [
    "# Aggregating transactional data per customer\n",
    "customer_features = merged_df.groupby('CustomerID').agg(\n",
    "    TotalSpending=('TotalValue', 'sum'),\n",
    "    AvgTransactionValue=('TotalValue', 'mean'),\n",
    "    TotalQuantity=('Quantity', 'sum'),\n",
    "    TransactionCount=('TransactionID', 'nunique')\n",
    ").reset_index()"
   ]
  },
  {
   "cell_type": "code",
   "execution_count": 10,
   "metadata": {},
   "outputs": [],
   "source": [
    "# One-hot encoding for product categories to capture preferences\n",
    "category_preferences = pd.get_dummies(merged_df[['CustomerID', 'Category']], columns=['Category'])\n",
    "category_features = category_preferences.groupby('CustomerID').sum().reset_index()\n",
    "\n",
    "# Combine transactional features with category preferences\n",
    "customer_data = customer_features.merge(category_features, on='CustomerID')"
   ]
  },
  {
   "cell_type": "code",
   "execution_count": 11,
   "metadata": {},
   "outputs": [],
   "source": [
    "# Standardizing features for similarity calculation\n",
    "scaler = StandardScaler()\n",
    "scaled_features = scaler.fit_transform(customer_data.drop(columns=['CustomerID']))\n",
    "\n",
    "# Calculate cosine similarity\n",
    "similarity_matrix = cosine_similarity(scaled_features)\n",
    "\n",
    "# Mapping customers for lookup\n",
    "customer_ids = customer_data['CustomerID'].tolist()"
   ]
  },
  {
   "cell_type": "code",
   "execution_count": 12,
   "metadata": {},
   "outputs": [],
   "source": [
    "# Generating top 3 lookalike recommendations for customers C0001 to C0020\n",
    "lookalike_results = {}\n",
    "for idx, customer_id in enumerate(customer_ids[:20]): \n",
    "    \n",
    "    # First 20 customers\n",
    "    \n",
    "    similarity_scores = list(enumerate(similarity_matrix[idx]))\n",
    "    similarity_scores = sorted(similarity_scores, key=lambda x: x[1], reverse=True)\n",
    "    top_3 = [(customer_ids[i], score) for i, score in similarity_scores[1:4]] \n",
    "    \n",
    "    # Exclude self (first entry)\n",
    "    \n",
    "    lookalike_results[customer_id] = top_3"
   ]
  },
  {
   "cell_type": "code",
   "execution_count": 14,
   "metadata": {},
   "outputs": [],
   "source": [
    "# Convert results to a dataframe\n",
    "lookalike_df = pd.DataFrame([\n",
    "    {\"CustomerID\": cust_id, \"Lookalikes\": lookalikes}\n",
    "    for cust_id, lookalikes in lookalike_results.items()\n",
    "])"
   ]
  },
  {
   "cell_type": "code",
   "execution_count": 20,
   "metadata": {},
   "outputs": [],
   "source": [
    "# Correct file path with filename\n",
    "lookalike_csv_path = 'C:\\\\Users\\\\siddh\\\\OneDrive\\\\Desktop\\\\internship\\\\zeotap\\\\Siddharth_Deshwal_Lookalike.csv'\n",
    "\n",
    "# Save the dataframe to a CSV file\n",
    "lookalike_df.to_csv(lookalike_csv_path, index=False)\n"
   ]
  },
  {
   "cell_type": "markdown",
   "metadata": {},
   "source": [
    "For checking the accuracy of the above model which is \"Lookalike Model \""
   ]
  },
  {
   "cell_type": "code",
   "execution_count": 26,
   "metadata": {},
   "outputs": [],
   "source": [
    "# Define the first 20 target customers explicitly\n",
    "target_customers = [f\"C{i:04d}\" for i in range(1, 21)]"
   ]
  },
  {
   "cell_type": "code",
   "execution_count": 23,
   "metadata": {},
   "outputs": [],
   "source": [
    "# Merging datasets for complete analysis\n",
    "transactions = transactions_df.merge(customers_df, on=\"CustomerID\", how=\"left\")\n",
    "transactions = transactions_df.merge(products_df, on=\"ProductID\", how=\"left\")"
   ]
  },
  {
   "cell_type": "code",
   "execution_count": 29,
   "metadata": {},
   "outputs": [],
   "source": [
    "# Define function to validate similarity logic and quality\n",
    "def evaluate_recommendations(lookalikes, transactions, target_customers):\n",
    "    # Results for evaluation\n",
    "    evaluation_metrics = {\n",
    "        \"Average_Overlap\": [],\n",
    "        \"Average_Similarity_Score\": [],\n",
    "        \"Relevant_Recommendations\": [],\n",
    "        \"Precision_At_3\": [],\n",
    "    }\n",
    "\n",
    "    for cust_id, similar_list in lookalikes.items():\n",
    "        # Check if this is a target customer\n",
    "        if cust_id not in target_customers:\n",
    "            continue\n",
    "\n",
    "        # Get transaction history of target customer\n",
    "        target_products = set(transactions[transactions[\"CustomerID\"] == cust_id][\"ProductID\"])\n",
    "\n",
    "        # Evaluate quality of each recommended customer\n",
    "        overlap_scores = []\n",
    "        sim_scores = []\n",
    "        relevant_count = 0\n",
    "\n",
    "        for sim_cust, score in similar_list:\n",
    "            sim_products = set(transactions[transactions[\"CustomerID\"] == sim_cust][\"ProductID\"])\n",
    "            overlap = len(target_products & sim_products) / max(len(target_products), 1)  # Avoid division by zero\n",
    "\n",
    "            overlap_scores.append(overlap)\n",
    "            sim_scores.append(score)\n",
    "\n",
    "            # Count as relevant if overlap > 0\n",
    "            if overlap > 0.1:\n",
    "                relevant_count += 1\n",
    "\n",
    "        # Store metrics\n",
    "        evaluation_metrics[\"Average_Overlap\"].append(sum(overlap_scores) / len(overlap_scores))\n",
    "        evaluation_metrics[\"Average_Similarity_Score\"].append(sum(sim_scores) / len(sim_scores))\n",
    "        evaluation_metrics[\"Relevant_Recommendations\"].append(relevant_count)\n",
    "        evaluation_metrics[\"Precision_At_3\"].append(relevant_count / 3)  # Precision @3\n",
    "\n",
    "    # Compute overall metrics\n",
    "    overall_metrics = {key: sum(value) / len(value) for key, value in evaluation_metrics.items()}\n",
    "    return evaluation_metrics, overall_metrics"
   ]
  },
  {
   "cell_type": "code",
   "execution_count": 30,
   "metadata": {},
   "outputs": [
    {
     "data": {
      "text/plain": [
       "{'Average_Overlap': 0.07753968253968253,\n",
       " 'Average_Similarity_Score': np.float64(0.9050367686735129),\n",
       " 'Relevant_Recommendations': 0.95,\n",
       " 'Precision_At_3': 0.31666666666666665}"
      ]
     },
     "execution_count": 30,
     "metadata": {},
     "output_type": "execute_result"
    }
   ],
   "source": [
    "# Assume lookalike_dict from earlier\n",
    "lookalike_dict = {key: [(val[0], val[1]) for val in value] for key, value in lookalike_results.items()}\n",
    "\n",
    "# Perform evaluation\n",
    "target_customers = [f\"C{i:04d}\" for i in range(1, 21)]\n",
    "detailed_metrics, overall_metrics = evaluate_recommendations(lookalike_dict, transactions, target_customers)\n",
    "\n",
    "overall_metrics"
   ]
  }
 ],
 "metadata": {
  "kernelspec": {
   "display_name": "Python 3",
   "language": "python",
   "name": "python3"
  },
  "language_info": {
   "codemirror_mode": {
    "name": "ipython",
    "version": 3
   },
   "file_extension": ".py",
   "mimetype": "text/x-python",
   "name": "python",
   "nbconvert_exporter": "python",
   "pygments_lexer": "ipython3",
   "version": "3.12.7"
  }
 },
 "nbformat": 4,
 "nbformat_minor": 2
}
